{
 "cells": [
  {
   "cell_type": "code",
   "execution_count": 1,
   "metadata": {},
   "outputs": [],
   "source": [
    "import nltk"
   ]
  },
  {
   "cell_type": "code",
   "execution_count": 2,
   "metadata": {},
   "outputs": [],
   "source": [
    "para = \"\"\"I have three visions for India. In 3000 years of our history, people from all over \n",
    "               the world have come and invaded us, captured our lands, conquered our minds. \n",
    "               From Alexander onwards, the Greeks, the Turks, the Moguls, the Portuguese, the British,\n",
    "               the French, the Dutch, all of them came and looted us, took over what was ours. \n",
    "               Yet we have not done this to any other nation. We have not conquered anyone. \n",
    "               We have not grabbed their land, their culture, \n",
    "               their history and tried to enforce our way of life on them. \n",
    "               Why? Because we respect the freedom of others.That is why my \n",
    "               first vision is that of freedom. I believe that India got its first vision of \n",
    "               this in 1857, when we started the War of Independence. It is this freedom that\n",
    "               we must protect and nurture and build on. If we are not free, no one will respect us.\n",
    "               My second vision for India’s development. For fifty years we have been a developing nation.\n",
    "               It is time we see ourselves as a developed nation. We are among the top 5 nations of the world\n",
    "               in terms of GDP. We have a 10 percent growth rate in most areas. Our poverty levels are falling.\n",
    "               Our achievements are being globally recognised today. Yet we lack the self-confidence to\n",
    "               see ourselves as a developed nation, self-reliant and self-assured. Isn’t this incorrect?\n",
    "               I have a third vision. India must stand up to the world. Because I believe that unless India \n",
    "               stands up to the world, no one will respect us. Only strength respects strength. We must be \n",
    "               strong not only as a military power but also as an economic power. Both must go hand-in-hand. \n",
    "               My good fortune was to have worked with three great minds. Dr. Vikram Sarabhai of the Dept. of \n",
    "               space, Professor Satish Dhawan, who succeeded him and Dr. Brahm Prakash, father of nuclear material.\n",
    "               I was lucky to have worked with all three of them closely and consider this the great opportunity of my life. \n",
    "               I see four milestones in my career\"\"\""
   ]
  },
  {
   "cell_type": "code",
   "execution_count": 3,
   "metadata": {},
   "outputs": [],
   "source": [
    "import re #Regular Expression removes unneccessory expressions like /n /t ; ?\n",
    "from nltk.corpus import stopwords #removes meaningless words ie. the then he she"
   ]
  },
  {
   "cell_type": "code",
   "execution_count": 4,
   "metadata": {},
   "outputs": [
    {
     "data": {
      "text/plain": [
       "['i',\n",
       " 'me',\n",
       " 'my',\n",
       " 'myself',\n",
       " 'we',\n",
       " 'our',\n",
       " 'ours',\n",
       " 'ourselves',\n",
       " 'you',\n",
       " \"you're\",\n",
       " \"you've\",\n",
       " \"you'll\",\n",
       " \"you'd\",\n",
       " 'your',\n",
       " 'yours',\n",
       " 'yourself',\n",
       " 'yourselves',\n",
       " 'he',\n",
       " 'him',\n",
       " 'his',\n",
       " 'himself',\n",
       " 'she',\n",
       " \"she's\",\n",
       " 'her',\n",
       " 'hers',\n",
       " 'herself',\n",
       " 'it',\n",
       " \"it's\",\n",
       " 'its',\n",
       " 'itself',\n",
       " 'they',\n",
       " 'them',\n",
       " 'their',\n",
       " 'theirs',\n",
       " 'themselves',\n",
       " 'what',\n",
       " 'which',\n",
       " 'who',\n",
       " 'whom',\n",
       " 'this',\n",
       " 'that',\n",
       " \"that'll\",\n",
       " 'these',\n",
       " 'those',\n",
       " 'am',\n",
       " 'is',\n",
       " 'are',\n",
       " 'was',\n",
       " 'were',\n",
       " 'be',\n",
       " 'been',\n",
       " 'being',\n",
       " 'have',\n",
       " 'has',\n",
       " 'had',\n",
       " 'having',\n",
       " 'do',\n",
       " 'does',\n",
       " 'did',\n",
       " 'doing',\n",
       " 'a',\n",
       " 'an',\n",
       " 'the',\n",
       " 'and',\n",
       " 'but',\n",
       " 'if',\n",
       " 'or',\n",
       " 'because',\n",
       " 'as',\n",
       " 'until',\n",
       " 'while',\n",
       " 'of',\n",
       " 'at',\n",
       " 'by',\n",
       " 'for',\n",
       " 'with',\n",
       " 'about',\n",
       " 'against',\n",
       " 'between',\n",
       " 'into',\n",
       " 'through',\n",
       " 'during',\n",
       " 'before',\n",
       " 'after',\n",
       " 'above',\n",
       " 'below',\n",
       " 'to',\n",
       " 'from',\n",
       " 'up',\n",
       " 'down',\n",
       " 'in',\n",
       " 'out',\n",
       " 'on',\n",
       " 'off',\n",
       " 'over',\n",
       " 'under',\n",
       " 'again',\n",
       " 'further',\n",
       " 'then',\n",
       " 'once',\n",
       " 'here',\n",
       " 'there',\n",
       " 'when',\n",
       " 'where',\n",
       " 'why',\n",
       " 'how',\n",
       " 'all',\n",
       " 'any',\n",
       " 'both',\n",
       " 'each',\n",
       " 'few',\n",
       " 'more',\n",
       " 'most',\n",
       " 'other',\n",
       " 'some',\n",
       " 'such',\n",
       " 'no',\n",
       " 'nor',\n",
       " 'not',\n",
       " 'only',\n",
       " 'own',\n",
       " 'same',\n",
       " 'so',\n",
       " 'than',\n",
       " 'too',\n",
       " 'very',\n",
       " 's',\n",
       " 't',\n",
       " 'can',\n",
       " 'will',\n",
       " 'just',\n",
       " 'don',\n",
       " \"don't\",\n",
       " 'should',\n",
       " \"should've\",\n",
       " 'now',\n",
       " 'd',\n",
       " 'll',\n",
       " 'm',\n",
       " 'o',\n",
       " 're',\n",
       " 've',\n",
       " 'y',\n",
       " 'ain',\n",
       " 'aren',\n",
       " \"aren't\",\n",
       " 'couldn',\n",
       " \"couldn't\",\n",
       " 'didn',\n",
       " \"didn't\",\n",
       " 'doesn',\n",
       " \"doesn't\",\n",
       " 'hadn',\n",
       " \"hadn't\",\n",
       " 'hasn',\n",
       " \"hasn't\",\n",
       " 'haven',\n",
       " \"haven't\",\n",
       " 'isn',\n",
       " \"isn't\",\n",
       " 'ma',\n",
       " 'mightn',\n",
       " \"mightn't\",\n",
       " 'mustn',\n",
       " \"mustn't\",\n",
       " 'needn',\n",
       " \"needn't\",\n",
       " 'shan',\n",
       " \"shan't\",\n",
       " 'shouldn',\n",
       " \"shouldn't\",\n",
       " 'wasn',\n",
       " \"wasn't\",\n",
       " 'weren',\n",
       " \"weren't\",\n",
       " 'won',\n",
       " \"won't\",\n",
       " 'wouldn',\n",
       " \"wouldn't\"]"
      ]
     },
     "execution_count": 4,
     "metadata": {},
     "output_type": "execute_result"
    }
   ],
   "source": [
    "stopwords.words('english')"
   ]
  },
  {
   "cell_type": "code",
   "execution_count": 5,
   "metadata": {},
   "outputs": [],
   "source": [
    "sentence = nltk.sent_tokenize(para) #this will convert full para to sentences"
   ]
  },
  {
   "cell_type": "code",
   "execution_count": 6,
   "metadata": {},
   "outputs": [
    {
     "name": "stdout",
     "output_type": "stream",
     "text": [
      "['I have three visions for India.', 'In 3000 years of our history, people from all over \\n               the world have come and invaded us, captured our lands, conquered our minds.', 'From Alexander onwards, the Greeks, the Turks, the Moguls, the Portuguese, the British,\\n               the French, the Dutch, all of them came and looted us, took over what was ours.', 'Yet we have not done this to any other nation.', 'We have not conquered anyone.', 'We have not grabbed their land, their culture, \\n               their history and tried to enforce our way of life on them.', 'Why?', 'Because we respect the freedom of others.That is why my \\n               first vision is that of freedom.', 'I believe that India got its first vision of \\n               this in 1857, when we started the War of Independence.', 'It is this freedom that\\n               we must protect and nurture and build on.', 'If we are not free, no one will respect us.', 'My second vision for India’s development.', 'For fifty years we have been a developing nation.', 'It is time we see ourselves as a developed nation.', 'We are among the top 5 nations of the world\\n               in terms of GDP.', 'We have a 10 percent growth rate in most areas.', 'Our poverty levels are falling.', 'Our achievements are being globally recognised today.', 'Yet we lack the self-confidence to\\n               see ourselves as a developed nation, self-reliant and self-assured.', 'Isn’t this incorrect?', 'I have a third vision.', 'India must stand up to the world.', 'Because I believe that unless India \\n               stands up to the world, no one will respect us.', 'Only strength respects strength.', 'We must be \\n               strong not only as a military power but also as an economic power.', 'Both must go hand-in-hand.', 'My good fortune was to have worked with three great minds.', 'Dr. Vikram Sarabhai of the Dept.', 'of \\n               space, Professor Satish Dhawan, who succeeded him and Dr. Brahm Prakash, father of nuclear material.', 'I was lucky to have worked with all three of them closely and consider this the great opportunity of my life.', 'I see four milestones in my career']\n"
     ]
    }
   ],
   "source": [
    "print(sentence)"
   ]
  },
  {
   "cell_type": "code",
   "execution_count": 7,
   "metadata": {},
   "outputs": [
    {
     "data": {
      "text/plain": [
       "31"
      ]
     },
     "execution_count": 7,
     "metadata": {},
     "output_type": "execute_result"
    }
   ],
   "source": [
    "len(sentence) #sent_tokenize extracted 31 sentences from para"
   ]
  },
  {
   "cell_type": "markdown",
   "metadata": {},
   "source": [
    "## 1. Stemming"
   ]
  },
  {
   "cell_type": "code",
   "execution_count": 8,
   "metadata": {},
   "outputs": [],
   "source": [
    "from nltk.stem.porter import PorterStemmer #stemming\n",
    "ps = PorterStemmer() #creating object for stemming"
   ]
  },
  {
   "cell_type": "code",
   "execution_count": 9,
   "metadata": {},
   "outputs": [],
   "source": [
    "corpus = []\n",
    "for i in range (len(sentence)):\n",
    "    words = re.sub('^a-zA-Z', \" \",sentence[i])\n",
    "    words = words.lower()\n",
    "    words = words.split()\n",
    "    words = [ps.stem(x) for x in words if not x in set(stopwords.words('english'))]\n",
    "    words = ' '.join(words)\n",
    "    corpus.append(words)"
   ]
  },
  {
   "cell_type": "code",
   "execution_count": 10,
   "metadata": {},
   "outputs": [
    {
     "data": {
      "text/plain": [
       "['three vision india.',\n",
       " '3000 year history, peopl world come invad us, captur lands, conquer minds.',\n",
       " 'alexand onwards, greeks, turks, moguls, portuguese, british, french, dutch, came loot us, took ours.',\n",
       " 'yet done nation.',\n",
       " 'conquer anyone.',\n",
       " 'grab land, culture, histori tri enforc way life them.',\n",
       " 'why?',\n",
       " 'respect freedom others.that first vision freedom.',\n",
       " 'believ india got first vision 1857, start war independence.',\n",
       " 'freedom must protect nurtur build on.',\n",
       " 'free, one respect us.',\n",
       " 'second vision india’ development.',\n",
       " 'fifti year develop nation.',\n",
       " 'time see develop nation.',\n",
       " 'among top 5 nation world term gdp.',\n",
       " '10 percent growth rate areas.',\n",
       " 'poverti level falling.',\n",
       " 'achiev global recognis today.',\n",
       " 'yet lack self-confid see develop nation, self-reli self-assured.',\n",
       " 'isn’t incorrect?',\n",
       " 'third vision.',\n",
       " 'india must stand world.',\n",
       " 'believ unless india stand world, one respect us.',\n",
       " 'strength respect strength.',\n",
       " 'must strong militari power also econom power.',\n",
       " 'must go hand-in-hand.',\n",
       " 'good fortun work three great minds.',\n",
       " 'dr. vikram sarabhai dept.',\n",
       " 'space, professor satish dhawan, succeed dr. brahm prakash, father nuclear material.',\n",
       " 'lucki work three close consid great opportun life.',\n",
       " 'see four mileston career']"
      ]
     },
     "execution_count": 10,
     "metadata": {},
     "output_type": "execute_result"
    }
   ],
   "source": [
    "corpus"
   ]
  },
  {
   "cell_type": "code",
   "execution_count": 11,
   "metadata": {},
   "outputs": [
    {
     "data": {
      "text/plain": [
       "31"
      ]
     },
     "execution_count": 11,
     "metadata": {},
     "output_type": "execute_result"
    }
   ],
   "source": [
    "len(corpus)"
   ]
  },
  {
   "cell_type": "markdown",
   "metadata": {},
   "source": [
    "## 2. Lemmetization"
   ]
  },
  {
   "cell_type": "code",
   "execution_count": 12,
   "metadata": {},
   "outputs": [],
   "source": [
    "from nltk.stem import WordNetLemmatizer\n",
    "lem = WordNetLemmatizer()"
   ]
  },
  {
   "cell_type": "code",
   "execution_count": 13,
   "metadata": {},
   "outputs": [],
   "source": [
    "corpus1 = []\n",
    "for i in range (len(sentence)):\n",
    "    words = re.sub('[^a-zA-Z]', \" \",sentence[i])\n",
    "    words = words.lower()\n",
    "    words = words.split()\n",
    "    words = [lem.lemmatize(x) for x in words if not x in set(stopwords.words('english'))]\n",
    "    words = ' '.join(words)\n",
    "    corpus1.append(words)"
   ]
  },
  {
   "cell_type": "code",
   "execution_count": 14,
   "metadata": {},
   "outputs": [
    {
     "data": {
      "text/plain": [
       "['three vision india',\n",
       " 'year history people world come invaded u captured land conquered mind',\n",
       " 'alexander onwards greek turk mogul portuguese british french dutch came looted u took',\n",
       " 'yet done nation',\n",
       " 'conquered anyone',\n",
       " 'grabbed land culture history tried enforce way life',\n",
       " '',\n",
       " 'respect freedom others first vision freedom',\n",
       " 'believe india got first vision started war independence',\n",
       " 'freedom must protect nurture build',\n",
       " 'free one respect u',\n",
       " 'second vision india development',\n",
       " 'fifty year developing nation',\n",
       " 'time see developed nation',\n",
       " 'among top nation world term gdp',\n",
       " 'percent growth rate area',\n",
       " 'poverty level falling',\n",
       " 'achievement globally recognised today',\n",
       " 'yet lack self confidence see developed nation self reliant self assured',\n",
       " 'incorrect',\n",
       " 'third vision',\n",
       " 'india must stand world',\n",
       " 'believe unless india stand world one respect u',\n",
       " 'strength respect strength',\n",
       " 'must strong military power also economic power',\n",
       " 'must go hand hand',\n",
       " 'good fortune worked three great mind',\n",
       " 'dr vikram sarabhai dept',\n",
       " 'space professor satish dhawan succeeded dr brahm prakash father nuclear material',\n",
       " 'lucky worked three closely consider great opportunity life',\n",
       " 'see four milestone career']"
      ]
     },
     "execution_count": 14,
     "metadata": {},
     "output_type": "execute_result"
    }
   ],
   "source": [
    "corpus1"
   ]
  },
  {
   "cell_type": "markdown",
   "metadata": {},
   "source": [
    "# 1.CountVectorizer"
   ]
  },
  {
   "cell_type": "code",
   "execution_count": 15,
   "metadata": {},
   "outputs": [],
   "source": [
    "from sklearn.feature_extraction.text import CountVectorizer\n",
    "cv = CountVectorizer()\n",
    "X = cv.fit_transform(corpus).toarray()"
   ]
  },
  {
   "cell_type": "code",
   "execution_count": 16,
   "metadata": {},
   "outputs": [
    {
     "data": {
      "text/plain": [
       "array([[0, 0, 0, ..., 0, 0, 0],\n",
       "       [0, 0, 1, ..., 1, 1, 0],\n",
       "       [0, 0, 0, ..., 0, 0, 0],\n",
       "       ...,\n",
       "       [0, 0, 0, ..., 0, 0, 0],\n",
       "       [0, 0, 0, ..., 0, 0, 0],\n",
       "       [0, 0, 0, ..., 0, 0, 0]], dtype=int64)"
      ]
     },
     "execution_count": 16,
     "metadata": {},
     "output_type": "execute_result"
    }
   ],
   "source": [
    "X"
   ]
  },
  {
   "cell_type": "code",
   "execution_count": 17,
   "metadata": {},
   "outputs": [
    {
     "data": {
      "text/plain": [
       "[array(['india', 'three', 'vision'], dtype='<U12')]"
      ]
     },
     "execution_count": 17,
     "metadata": {},
     "output_type": "execute_result"
    }
   ],
   "source": [
    "cv.inverse_transform(X[0])"
   ]
  },
  {
   "cell_type": "code",
   "execution_count": 18,
   "metadata": {},
   "outputs": [
    {
     "data": {
      "text/plain": [
       "array([0, 0, 0, 0, 0, 0, 0, 0, 0, 0, 0, 0, 0, 0, 0, 0, 0, 0, 0, 0, 0, 0,\n",
       "       0, 0, 0, 0, 0, 0, 0, 0, 0, 0, 0, 0, 0, 0, 0, 0, 0, 0, 0, 0, 0, 0,\n",
       "       0, 0, 0, 0, 0, 0, 0, 0, 0, 0, 0, 0, 1, 0, 0, 0, 0, 0, 0, 0, 0, 0,\n",
       "       0, 0, 0, 0, 0, 0, 0, 0, 0, 0, 0, 0, 0, 0, 0, 0, 0, 0, 0, 0, 0, 0,\n",
       "       0, 0, 0, 0, 0, 0, 0, 0, 0, 0, 0, 0, 0, 0, 0, 0, 0, 0, 0, 0, 1, 0,\n",
       "       0, 0, 0, 0, 0, 0, 0, 0, 1, 0, 0, 0, 0, 0, 0, 0], dtype=int64)"
      ]
     },
     "execution_count": 18,
     "metadata": {},
     "output_type": "execute_result"
    }
   ],
   "source": [
    "X[0]"
   ]
  },
  {
   "cell_type": "markdown",
   "metadata": {},
   "source": [
    "# 2. Term Frequency Inverse Document Frequency (TFIDF)"
   ]
  },
  {
   "cell_type": "code",
   "execution_count": 19,
   "metadata": {},
   "outputs": [],
   "source": [
    "from sklearn.feature_extraction.text import TfidfVectorizer\n",
    "tfidf = TfidfVectorizer()\n",
    "Y = tfidf.fit_transform(corpus1).toarray()"
   ]
  },
  {
   "cell_type": "code",
   "execution_count": 20,
   "metadata": {},
   "outputs": [
    {
     "data": {
      "text/plain": [
       "array([[0.        , 0.        , 0.        , ..., 0.        , 0.        ,\n",
       "        0.        ],\n",
       "       [0.        , 0.        , 0.        , ..., 0.25883507, 0.30512561,\n",
       "        0.        ],\n",
       "       [0.        , 0.28867513, 0.        , ..., 0.        , 0.        ,\n",
       "        0.        ],\n",
       "       ...,\n",
       "       [0.        , 0.        , 0.        , ..., 0.        , 0.        ,\n",
       "        0.        ],\n",
       "       [0.        , 0.        , 0.        , ..., 0.        , 0.        ,\n",
       "        0.        ],\n",
       "       [0.        , 0.        , 0.        , ..., 0.        , 0.        ,\n",
       "        0.        ]])"
      ]
     },
     "execution_count": 20,
     "metadata": {},
     "output_type": "execute_result"
    }
   ],
   "source": [
    "Y"
   ]
  },
  {
   "cell_type": "code",
   "execution_count": 21,
   "metadata": {},
   "outputs": [
    {
     "data": {
      "text/plain": [
       "[array(['india', 'three', 'vision'], dtype='<U12')]"
      ]
     },
     "execution_count": 21,
     "metadata": {},
     "output_type": "execute_result"
    }
   ],
   "source": [
    "tfidf.inverse_transform(Y[0])"
   ]
  },
  {
   "cell_type": "code",
   "execution_count": 22,
   "metadata": {},
   "outputs": [
    {
     "data": {
      "text/plain": [
       "array([0.        , 0.        , 0.        , 0.        , 0.        ,\n",
       "       0.        , 0.        , 0.        , 0.        , 0.        ,\n",
       "       0.        , 0.        , 0.        , 0.        , 0.        ,\n",
       "       0.        , 0.        , 0.        , 0.        , 0.        ,\n",
       "       0.        , 0.        , 0.        , 0.        , 0.        ,\n",
       "       0.        , 0.        , 0.        , 0.        , 0.        ,\n",
       "       0.        , 0.        , 0.        , 0.        , 0.        ,\n",
       "       0.        , 0.        , 0.        , 0.        , 0.        ,\n",
       "       0.        , 0.        , 0.        , 0.        , 0.        ,\n",
       "       0.        , 0.        , 0.        , 0.        , 0.        ,\n",
       "       0.        , 0.        , 0.54830459, 0.        , 0.        ,\n",
       "       0.        , 0.        , 0.        , 0.        , 0.        ,\n",
       "       0.        , 0.        , 0.        , 0.        , 0.        ,\n",
       "       0.        , 0.        , 0.        , 0.        , 0.        ,\n",
       "       0.        , 0.        , 0.        , 0.        , 0.        ,\n",
       "       0.        , 0.        , 0.        , 0.        , 0.        ,\n",
       "       0.        , 0.        , 0.        , 0.        , 0.        ,\n",
       "       0.        , 0.        , 0.        , 0.        , 0.        ,\n",
       "       0.        , 0.        , 0.        , 0.        , 0.        ,\n",
       "       0.        , 0.        , 0.        , 0.63144608, 0.        ,\n",
       "       0.        , 0.        , 0.        , 0.        , 0.        ,\n",
       "       0.        , 0.        , 0.54830459, 0.        , 0.        ,\n",
       "       0.        , 0.        , 0.        , 0.        ])"
      ]
     },
     "execution_count": 22,
     "metadata": {},
     "output_type": "execute_result"
    }
   ],
   "source": [
    "Y[0]"
   ]
  },
  {
   "cell_type": "markdown",
   "metadata": {},
   "source": [
    "# word2vec"
   ]
  },
  {
   "cell_type": "code",
   "execution_count": 23,
   "metadata": {},
   "outputs": [
    {
     "name": "stderr",
     "output_type": "stream",
     "text": [
      "unable to import 'smart_open.gcs', disabling that module\n"
     ]
    }
   ],
   "source": [
    "from gensim.models import Word2Vec"
   ]
  },
  {
   "cell_type": "code",
   "execution_count": 24,
   "metadata": {},
   "outputs": [],
   "source": [
    "text = re.sub(r\"\\[[0-9]*\\]\",\" \",para)\n",
    "text = re.sub(r\"\\s+\",\" \",text)\n",
    "text = text.lower()\n",
    "text = re.sub(r\"\\d\",\" \",text)\n",
    "text = re.sub(r\"\\s+\",\" \",text)"
   ]
  },
  {
   "cell_type": "code",
   "execution_count": 25,
   "metadata": {},
   "outputs": [
    {
     "data": {
      "text/plain": [
       "'I have three visions for India. In 3000 years of our history, people from all over \\n               the world have come and invaded us, captured our lands, conquered our minds. \\n               From Alexander onwards, the Greeks, the Turks, the Moguls, the Portuguese, the British,\\n               the French, the Dutch, all of them came and looted us, took over what was ours. \\n               Yet we have not done this to any other nation. We have not conquered anyone. \\n               We have not grabbed their land, their culture, \\n               their history and tried to enforce our way of life on them. \\n               Why? Because we respect the freedom of others.That is why my \\n               first vision is that of freedom. I believe that India got its first vision of \\n               this in 1857, when we started the War of Independence. It is this freedom that\\n               we must protect and nurture and build on. If we are not free, no one will respect us.\\n               My second vision for India’s development. For fifty years we have been a developing nation.\\n               It is time we see ourselves as a developed nation. We are among the top 5 nations of the world\\n               in terms of GDP. We have a 10 percent growth rate in most areas. Our poverty levels are falling.\\n               Our achievements are being globally recognised today. Yet we lack the self-confidence to\\n               see ourselves as a developed nation, self-reliant and self-assured. Isn’t this incorrect?\\n               I have a third vision. India must stand up to the world. Because I believe that unless India \\n               stands up to the world, no one will respect us. Only strength respects strength. We must be \\n               strong not only as a military power but also as an economic power. Both must go hand-in-hand. \\n               My good fortune was to have worked with three great minds. Dr. Vikram Sarabhai of the Dept. of \\n               space, Professor Satish Dhawan, who succeeded him and Dr. Brahm Prakash, father of nuclear material.\\n               I was lucky to have worked with all three of them closely and consider this the great opportunity of my life. \\n               I see four milestones in my career'"
      ]
     },
     "execution_count": 25,
     "metadata": {},
     "output_type": "execute_result"
    }
   ],
   "source": [
    "para"
   ]
  },
  {
   "cell_type": "code",
   "execution_count": 26,
   "metadata": {},
   "outputs": [
    {
     "data": {
      "text/plain": [
       "'i have three visions for india. in years of our history, people from all over the world have come and invaded us, captured our lands, conquered our minds. from alexander onwards, the greeks, the turks, the moguls, the portuguese, the british, the french, the dutch, all of them came and looted us, took over what was ours. yet we have not done this to any other nation. we have not conquered anyone. we have not grabbed their land, their culture, their history and tried to enforce our way of life on them. why? because we respect the freedom of others.that is why my first vision is that of freedom. i believe that india got its first vision of this in , when we started the war of independence. it is this freedom that we must protect and nurture and build on. if we are not free, no one will respect us. my second vision for india’s development. for fifty years we have been a developing nation. it is time we see ourselves as a developed nation. we are among the top nations of the world in terms of gdp. we have a percent growth rate in most areas. our poverty levels are falling. our achievements are being globally recognised today. yet we lack the self-confidence to see ourselves as a developed nation, self-reliant and self-assured. isn’t this incorrect? i have a third vision. india must stand up to the world. because i believe that unless india stands up to the world, no one will respect us. only strength respects strength. we must be strong not only as a military power but also as an economic power. both must go hand-in-hand. my good fortune was to have worked with three great minds. dr. vikram sarabhai of the dept. of space, professor satish dhawan, who succeeded him and dr. brahm prakash, father of nuclear material. i was lucky to have worked with all three of them closely and consider this the great opportunity of my life. i see four milestones in my career'"
      ]
     },
     "execution_count": 26,
     "metadata": {},
     "output_type": "execute_result"
    }
   ],
   "source": [
    "text"
   ]
  },
  {
   "cell_type": "code",
   "execution_count": 27,
   "metadata": {},
   "outputs": [],
   "source": [
    "sentence = nltk.sent_tokenize(text) #this will convert full para to sentences"
   ]
  },
  {
   "cell_type": "code",
   "execution_count": 28,
   "metadata": {},
   "outputs": [
    {
     "data": {
      "text/plain": [
       "['i have three visions for india.',\n",
       " 'in years of our history, people from all over the world have come and invaded us, captured our lands, conquered our minds.',\n",
       " 'from alexander onwards, the greeks, the turks, the moguls, the portuguese, the british, the french, the dutch, all of them came and looted us, took over what was ours.',\n",
       " 'yet we have not done this to any other nation.',\n",
       " 'we have not conquered anyone.',\n",
       " 'we have not grabbed their land, their culture, their history and tried to enforce our way of life on them.',\n",
       " 'why?',\n",
       " 'because we respect the freedom of others.that is why my first vision is that of freedom.',\n",
       " 'i believe that india got its first vision of this in , when we started the war of independence.',\n",
       " 'it is this freedom that we must protect and nurture and build on.',\n",
       " 'if we are not free, no one will respect us.',\n",
       " 'my second vision for india’s development.',\n",
       " 'for fifty years we have been a developing nation.',\n",
       " 'it is time we see ourselves as a developed nation.',\n",
       " 'we are among the top nations of the world in terms of gdp.',\n",
       " 'we have a percent growth rate in most areas.',\n",
       " 'our poverty levels are falling.',\n",
       " 'our achievements are being globally recognised today.',\n",
       " 'yet we lack the self-confidence to see ourselves as a developed nation, self-reliant and self-assured.',\n",
       " 'isn’t this incorrect?',\n",
       " 'i have a third vision.',\n",
       " 'india must stand up to the world.',\n",
       " 'because i believe that unless india stands up to the world, no one will respect us.',\n",
       " 'only strength respects strength.',\n",
       " 'we must be strong not only as a military power but also as an economic power.',\n",
       " 'both must go hand-in-hand.',\n",
       " 'my good fortune was to have worked with three great minds.',\n",
       " 'dr. vikram sarabhai of the dept.',\n",
       " 'of space, professor satish dhawan, who succeeded him and dr. brahm prakash, father of nuclear material.',\n",
       " 'i was lucky to have worked with all three of them closely and consider this the great opportunity of my life.',\n",
       " 'i see four milestones in my career']"
      ]
     },
     "execution_count": 28,
     "metadata": {},
     "output_type": "execute_result"
    }
   ],
   "source": [
    "sentence"
   ]
  },
  {
   "cell_type": "code",
   "execution_count": 29,
   "metadata": {},
   "outputs": [],
   "source": [
    "sentence = [nltk.word_tokenize(sentence) for sentence in sentence]"
   ]
  },
  {
   "cell_type": "code",
   "execution_count": 30,
   "metadata": {},
   "outputs": [
    {
     "data": {
      "text/plain": [
       "[['i', 'have', 'three', 'visions', 'for', 'india', '.'],\n",
       " ['in',\n",
       "  'years',\n",
       "  'of',\n",
       "  'our',\n",
       "  'history',\n",
       "  ',',\n",
       "  'people',\n",
       "  'from',\n",
       "  'all',\n",
       "  'over',\n",
       "  'the',\n",
       "  'world',\n",
       "  'have',\n",
       "  'come',\n",
       "  'and',\n",
       "  'invaded',\n",
       "  'us',\n",
       "  ',',\n",
       "  'captured',\n",
       "  'our',\n",
       "  'lands',\n",
       "  ',',\n",
       "  'conquered',\n",
       "  'our',\n",
       "  'minds',\n",
       "  '.'],\n",
       " ['from',\n",
       "  'alexander',\n",
       "  'onwards',\n",
       "  ',',\n",
       "  'the',\n",
       "  'greeks',\n",
       "  ',',\n",
       "  'the',\n",
       "  'turks',\n",
       "  ',',\n",
       "  'the',\n",
       "  'moguls',\n",
       "  ',',\n",
       "  'the',\n",
       "  'portuguese',\n",
       "  ',',\n",
       "  'the',\n",
       "  'british',\n",
       "  ',',\n",
       "  'the',\n",
       "  'french',\n",
       "  ',',\n",
       "  'the',\n",
       "  'dutch',\n",
       "  ',',\n",
       "  'all',\n",
       "  'of',\n",
       "  'them',\n",
       "  'came',\n",
       "  'and',\n",
       "  'looted',\n",
       "  'us',\n",
       "  ',',\n",
       "  'took',\n",
       "  'over',\n",
       "  'what',\n",
       "  'was',\n",
       "  'ours',\n",
       "  '.'],\n",
       " ['yet',\n",
       "  'we',\n",
       "  'have',\n",
       "  'not',\n",
       "  'done',\n",
       "  'this',\n",
       "  'to',\n",
       "  'any',\n",
       "  'other',\n",
       "  'nation',\n",
       "  '.'],\n",
       " ['we', 'have', 'not', 'conquered', 'anyone', '.'],\n",
       " ['we',\n",
       "  'have',\n",
       "  'not',\n",
       "  'grabbed',\n",
       "  'their',\n",
       "  'land',\n",
       "  ',',\n",
       "  'their',\n",
       "  'culture',\n",
       "  ',',\n",
       "  'their',\n",
       "  'history',\n",
       "  'and',\n",
       "  'tried',\n",
       "  'to',\n",
       "  'enforce',\n",
       "  'our',\n",
       "  'way',\n",
       "  'of',\n",
       "  'life',\n",
       "  'on',\n",
       "  'them',\n",
       "  '.'],\n",
       " ['why', '?'],\n",
       " ['because',\n",
       "  'we',\n",
       "  'respect',\n",
       "  'the',\n",
       "  'freedom',\n",
       "  'of',\n",
       "  'others.that',\n",
       "  'is',\n",
       "  'why',\n",
       "  'my',\n",
       "  'first',\n",
       "  'vision',\n",
       "  'is',\n",
       "  'that',\n",
       "  'of',\n",
       "  'freedom',\n",
       "  '.'],\n",
       " ['i',\n",
       "  'believe',\n",
       "  'that',\n",
       "  'india',\n",
       "  'got',\n",
       "  'its',\n",
       "  'first',\n",
       "  'vision',\n",
       "  'of',\n",
       "  'this',\n",
       "  'in',\n",
       "  ',',\n",
       "  'when',\n",
       "  'we',\n",
       "  'started',\n",
       "  'the',\n",
       "  'war',\n",
       "  'of',\n",
       "  'independence',\n",
       "  '.'],\n",
       " ['it',\n",
       "  'is',\n",
       "  'this',\n",
       "  'freedom',\n",
       "  'that',\n",
       "  'we',\n",
       "  'must',\n",
       "  'protect',\n",
       "  'and',\n",
       "  'nurture',\n",
       "  'and',\n",
       "  'build',\n",
       "  'on',\n",
       "  '.'],\n",
       " ['if',\n",
       "  'we',\n",
       "  'are',\n",
       "  'not',\n",
       "  'free',\n",
       "  ',',\n",
       "  'no',\n",
       "  'one',\n",
       "  'will',\n",
       "  'respect',\n",
       "  'us',\n",
       "  '.'],\n",
       " ['my', 'second', 'vision', 'for', 'india', '’', 's', 'development', '.'],\n",
       " ['for',\n",
       "  'fifty',\n",
       "  'years',\n",
       "  'we',\n",
       "  'have',\n",
       "  'been',\n",
       "  'a',\n",
       "  'developing',\n",
       "  'nation',\n",
       "  '.'],\n",
       " ['it',\n",
       "  'is',\n",
       "  'time',\n",
       "  'we',\n",
       "  'see',\n",
       "  'ourselves',\n",
       "  'as',\n",
       "  'a',\n",
       "  'developed',\n",
       "  'nation',\n",
       "  '.'],\n",
       " ['we',\n",
       "  'are',\n",
       "  'among',\n",
       "  'the',\n",
       "  'top',\n",
       "  'nations',\n",
       "  'of',\n",
       "  'the',\n",
       "  'world',\n",
       "  'in',\n",
       "  'terms',\n",
       "  'of',\n",
       "  'gdp',\n",
       "  '.'],\n",
       " ['we', 'have', 'a', 'percent', 'growth', 'rate', 'in', 'most', 'areas', '.'],\n",
       " ['our', 'poverty', 'levels', 'are', 'falling', '.'],\n",
       " ['our',\n",
       "  'achievements',\n",
       "  'are',\n",
       "  'being',\n",
       "  'globally',\n",
       "  'recognised',\n",
       "  'today',\n",
       "  '.'],\n",
       " ['yet',\n",
       "  'we',\n",
       "  'lack',\n",
       "  'the',\n",
       "  'self-confidence',\n",
       "  'to',\n",
       "  'see',\n",
       "  'ourselves',\n",
       "  'as',\n",
       "  'a',\n",
       "  'developed',\n",
       "  'nation',\n",
       "  ',',\n",
       "  'self-reliant',\n",
       "  'and',\n",
       "  'self-assured',\n",
       "  '.'],\n",
       " ['isn', '’', 't', 'this', 'incorrect', '?'],\n",
       " ['i', 'have', 'a', 'third', 'vision', '.'],\n",
       " ['india', 'must', 'stand', 'up', 'to', 'the', 'world', '.'],\n",
       " ['because',\n",
       "  'i',\n",
       "  'believe',\n",
       "  'that',\n",
       "  'unless',\n",
       "  'india',\n",
       "  'stands',\n",
       "  'up',\n",
       "  'to',\n",
       "  'the',\n",
       "  'world',\n",
       "  ',',\n",
       "  'no',\n",
       "  'one',\n",
       "  'will',\n",
       "  'respect',\n",
       "  'us',\n",
       "  '.'],\n",
       " ['only', 'strength', 'respects', 'strength', '.'],\n",
       " ['we',\n",
       "  'must',\n",
       "  'be',\n",
       "  'strong',\n",
       "  'not',\n",
       "  'only',\n",
       "  'as',\n",
       "  'a',\n",
       "  'military',\n",
       "  'power',\n",
       "  'but',\n",
       "  'also',\n",
       "  'as',\n",
       "  'an',\n",
       "  'economic',\n",
       "  'power',\n",
       "  '.'],\n",
       " ['both', 'must', 'go', 'hand-in-hand', '.'],\n",
       " ['my',\n",
       "  'good',\n",
       "  'fortune',\n",
       "  'was',\n",
       "  'to',\n",
       "  'have',\n",
       "  'worked',\n",
       "  'with',\n",
       "  'three',\n",
       "  'great',\n",
       "  'minds',\n",
       "  '.'],\n",
       " ['dr.', 'vikram', 'sarabhai', 'of', 'the', 'dept', '.'],\n",
       " ['of',\n",
       "  'space',\n",
       "  ',',\n",
       "  'professor',\n",
       "  'satish',\n",
       "  'dhawan',\n",
       "  ',',\n",
       "  'who',\n",
       "  'succeeded',\n",
       "  'him',\n",
       "  'and',\n",
       "  'dr.',\n",
       "  'brahm',\n",
       "  'prakash',\n",
       "  ',',\n",
       "  'father',\n",
       "  'of',\n",
       "  'nuclear',\n",
       "  'material',\n",
       "  '.'],\n",
       " ['i',\n",
       "  'was',\n",
       "  'lucky',\n",
       "  'to',\n",
       "  'have',\n",
       "  'worked',\n",
       "  'with',\n",
       "  'all',\n",
       "  'three',\n",
       "  'of',\n",
       "  'them',\n",
       "  'closely',\n",
       "  'and',\n",
       "  'consider',\n",
       "  'this',\n",
       "  'the',\n",
       "  'great',\n",
       "  'opportunity',\n",
       "  'of',\n",
       "  'my',\n",
       "  'life',\n",
       "  '.'],\n",
       " ['i', 'see', 'four', 'milestones', 'in', 'my', 'career']]"
      ]
     },
     "execution_count": 30,
     "metadata": {},
     "output_type": "execute_result"
    }
   ],
   "source": [
    "sentence"
   ]
  },
  {
   "cell_type": "code",
   "execution_count": 31,
   "metadata": {},
   "outputs": [],
   "source": [
    "for i in range(len(sentence)):\n",
    "        sentence[i] = [x for x in sentence[i] if not x in set(stopwords.words('english'))]"
   ]
  },
  {
   "cell_type": "code",
   "execution_count": 32,
   "metadata": {},
   "outputs": [
    {
     "data": {
      "text/plain": [
       "[['three', 'visions', 'india', '.'],\n",
       " ['years',\n",
       "  'history',\n",
       "  ',',\n",
       "  'people',\n",
       "  'world',\n",
       "  'come',\n",
       "  'invaded',\n",
       "  'us',\n",
       "  ',',\n",
       "  'captured',\n",
       "  'lands',\n",
       "  ',',\n",
       "  'conquered',\n",
       "  'minds',\n",
       "  '.'],\n",
       " ['alexander',\n",
       "  'onwards',\n",
       "  ',',\n",
       "  'greeks',\n",
       "  ',',\n",
       "  'turks',\n",
       "  ',',\n",
       "  'moguls',\n",
       "  ',',\n",
       "  'portuguese',\n",
       "  ',',\n",
       "  'british',\n",
       "  ',',\n",
       "  'french',\n",
       "  ',',\n",
       "  'dutch',\n",
       "  ',',\n",
       "  'came',\n",
       "  'looted',\n",
       "  'us',\n",
       "  ',',\n",
       "  'took',\n",
       "  '.'],\n",
       " ['yet', 'done', 'nation', '.'],\n",
       " ['conquered', 'anyone', '.'],\n",
       " ['grabbed',\n",
       "  'land',\n",
       "  ',',\n",
       "  'culture',\n",
       "  ',',\n",
       "  'history',\n",
       "  'tried',\n",
       "  'enforce',\n",
       "  'way',\n",
       "  'life',\n",
       "  '.'],\n",
       " ['?'],\n",
       " ['respect', 'freedom', 'others.that', 'first', 'vision', 'freedom', '.'],\n",
       " ['believe',\n",
       "  'india',\n",
       "  'got',\n",
       "  'first',\n",
       "  'vision',\n",
       "  ',',\n",
       "  'started',\n",
       "  'war',\n",
       "  'independence',\n",
       "  '.'],\n",
       " ['freedom', 'must', 'protect', 'nurture', 'build', '.'],\n",
       " ['free', ',', 'one', 'respect', 'us', '.'],\n",
       " ['second', 'vision', 'india', '’', 'development', '.'],\n",
       " ['fifty', 'years', 'developing', 'nation', '.'],\n",
       " ['time', 'see', 'developed', 'nation', '.'],\n",
       " ['among', 'top', 'nations', 'world', 'terms', 'gdp', '.'],\n",
       " ['percent', 'growth', 'rate', 'areas', '.'],\n",
       " ['poverty', 'levels', 'falling', '.'],\n",
       " ['achievements', 'globally', 'recognised', 'today', '.'],\n",
       " ['yet',\n",
       "  'lack',\n",
       "  'self-confidence',\n",
       "  'see',\n",
       "  'developed',\n",
       "  'nation',\n",
       "  ',',\n",
       "  'self-reliant',\n",
       "  'self-assured',\n",
       "  '.'],\n",
       " ['’', 'incorrect', '?'],\n",
       " ['third', 'vision', '.'],\n",
       " ['india', 'must', 'stand', 'world', '.'],\n",
       " ['believe',\n",
       "  'unless',\n",
       "  'india',\n",
       "  'stands',\n",
       "  'world',\n",
       "  ',',\n",
       "  'one',\n",
       "  'respect',\n",
       "  'us',\n",
       "  '.'],\n",
       " ['strength', 'respects', 'strength', '.'],\n",
       " ['must', 'strong', 'military', 'power', 'also', 'economic', 'power', '.'],\n",
       " ['must', 'go', 'hand-in-hand', '.'],\n",
       " ['good', 'fortune', 'worked', 'three', 'great', 'minds', '.'],\n",
       " ['dr.', 'vikram', 'sarabhai', 'dept', '.'],\n",
       " ['space',\n",
       "  ',',\n",
       "  'professor',\n",
       "  'satish',\n",
       "  'dhawan',\n",
       "  ',',\n",
       "  'succeeded',\n",
       "  'dr.',\n",
       "  'brahm',\n",
       "  'prakash',\n",
       "  ',',\n",
       "  'father',\n",
       "  'nuclear',\n",
       "  'material',\n",
       "  '.'],\n",
       " ['lucky',\n",
       "  'worked',\n",
       "  'three',\n",
       "  'closely',\n",
       "  'consider',\n",
       "  'great',\n",
       "  'opportunity',\n",
       "  'life',\n",
       "  '.'],\n",
       " ['see', 'four', 'milestones', 'career']]"
      ]
     },
     "execution_count": 32,
     "metadata": {},
     "output_type": "execute_result"
    }
   ],
   "source": [
    "sentence"
   ]
  },
  {
   "cell_type": "code",
   "execution_count": 33,
   "metadata": {},
   "outputs": [],
   "source": [
    "model = Word2Vec(sentence, min_count = 1)"
   ]
  },
  {
   "cell_type": "code",
   "execution_count": 34,
   "metadata": {},
   "outputs": [],
   "source": [
    "word = model.wv.vocab"
   ]
  },
  {
   "cell_type": "code",
   "execution_count": 35,
   "metadata": {},
   "outputs": [
    {
     "data": {
      "text/plain": [
       "{'three': <gensim.models.keyedvectors.Vocab at 0x2083cbb5b38>,\n",
       " 'visions': <gensim.models.keyedvectors.Vocab at 0x2083cbb5e48>,\n",
       " 'india': <gensim.models.keyedvectors.Vocab at 0x2083cbb5fd0>,\n",
       " '.': <gensim.models.keyedvectors.Vocab at 0x2083cbb5978>,\n",
       " 'years': <gensim.models.keyedvectors.Vocab at 0x2083cbb5a20>,\n",
       " 'history': <gensim.models.keyedvectors.Vocab at 0x2083cbb5550>,\n",
       " ',': <gensim.models.keyedvectors.Vocab at 0x2083cbb5ba8>,\n",
       " 'people': <gensim.models.keyedvectors.Vocab at 0x2083cbb59b0>,\n",
       " 'world': <gensim.models.keyedvectors.Vocab at 0x2083cbb52b0>,\n",
       " 'come': <gensim.models.keyedvectors.Vocab at 0x2083cbb5898>,\n",
       " 'invaded': <gensim.models.keyedvectors.Vocab at 0x2083cbb57f0>,\n",
       " 'us': <gensim.models.keyedvectors.Vocab at 0x2083cbb55c0>,\n",
       " 'captured': <gensim.models.keyedvectors.Vocab at 0x2083cbb52e8>,\n",
       " 'lands': <gensim.models.keyedvectors.Vocab at 0x2083cbb5240>,\n",
       " 'conquered': <gensim.models.keyedvectors.Vocab at 0x2083cbb5710>,\n",
       " 'minds': <gensim.models.keyedvectors.Vocab at 0x2083cbb5588>,\n",
       " 'alexander': <gensim.models.keyedvectors.Vocab at 0x2083cbb54a8>,\n",
       " 'onwards': <gensim.models.keyedvectors.Vocab at 0x2083cbb5668>,\n",
       " 'greeks': <gensim.models.keyedvectors.Vocab at 0x2083cbb57b8>,\n",
       " 'turks': <gensim.models.keyedvectors.Vocab at 0x2083cbb5048>,\n",
       " 'moguls': <gensim.models.keyedvectors.Vocab at 0x2083cbb5780>,\n",
       " 'portuguese': <gensim.models.keyedvectors.Vocab at 0x2083cbb5358>,\n",
       " 'british': <gensim.models.keyedvectors.Vocab at 0x2083cbb56d8>,\n",
       " 'french': <gensim.models.keyedvectors.Vocab at 0x2083cbb5630>,\n",
       " 'dutch': <gensim.models.keyedvectors.Vocab at 0x2083cbb5128>,\n",
       " 'came': <gensim.models.keyedvectors.Vocab at 0x2083cbb5208>,\n",
       " 'looted': <gensim.models.keyedvectors.Vocab at 0x2083cbb5860>,\n",
       " 'took': <gensim.models.keyedvectors.Vocab at 0x2083c91e0f0>,\n",
       " 'yet': <gensim.models.keyedvectors.Vocab at 0x2083cbb15f8>,\n",
       " 'done': <gensim.models.keyedvectors.Vocab at 0x2083cbb1128>,\n",
       " 'nation': <gensim.models.keyedvectors.Vocab at 0x2083cbb14e0>,\n",
       " 'anyone': <gensim.models.keyedvectors.Vocab at 0x2083cbb1710>,\n",
       " 'grabbed': <gensim.models.keyedvectors.Vocab at 0x2083cbb1780>,\n",
       " 'land': <gensim.models.keyedvectors.Vocab at 0x2083cbb1e10>,\n",
       " 'culture': <gensim.models.keyedvectors.Vocab at 0x2083cbb19b0>,\n",
       " 'tried': <gensim.models.keyedvectors.Vocab at 0x2083cbb1be0>,\n",
       " 'enforce': <gensim.models.keyedvectors.Vocab at 0x2083cbb1c88>,\n",
       " 'way': <gensim.models.keyedvectors.Vocab at 0x2083cbb1400>,\n",
       " 'life': <gensim.models.keyedvectors.Vocab at 0x2083cbb18d0>,\n",
       " '?': <gensim.models.keyedvectors.Vocab at 0x2083cbb1ba8>,\n",
       " 'respect': <gensim.models.keyedvectors.Vocab at 0x2083cbb1550>,\n",
       " 'freedom': <gensim.models.keyedvectors.Vocab at 0x2083cbb1f60>,\n",
       " 'others.that': <gensim.models.keyedvectors.Vocab at 0x2083cbb1630>,\n",
       " 'first': <gensim.models.keyedvectors.Vocab at 0x2083cbb1390>,\n",
       " 'vision': <gensim.models.keyedvectors.Vocab at 0x2083cbb12b0>,\n",
       " 'believe': <gensim.models.keyedvectors.Vocab at 0x2083cbb15c0>,\n",
       " 'got': <gensim.models.keyedvectors.Vocab at 0x2083cbb1320>,\n",
       " 'started': <gensim.models.keyedvectors.Vocab at 0x2083cbb1da0>,\n",
       " 'war': <gensim.models.keyedvectors.Vocab at 0x2083cbb12e8>,\n",
       " 'independence': <gensim.models.keyedvectors.Vocab at 0x2083cbb1438>,\n",
       " 'must': <gensim.models.keyedvectors.Vocab at 0x2083cbb1080>,\n",
       " 'protect': <gensim.models.keyedvectors.Vocab at 0x2083cbb10f0>,\n",
       " 'nurture': <gensim.models.keyedvectors.Vocab at 0x2083cbb1a20>,\n",
       " 'build': <gensim.models.keyedvectors.Vocab at 0x2083cbb1860>,\n",
       " 'free': <gensim.models.keyedvectors.Vocab at 0x2083cbb1c50>,\n",
       " 'one': <gensim.models.keyedvectors.Vocab at 0x2083cbb1b38>,\n",
       " 'second': <gensim.models.keyedvectors.Vocab at 0x2083cbb1cc0>,\n",
       " '’': <gensim.models.keyedvectors.Vocab at 0x2083cbb1e80>,\n",
       " 'development': <gensim.models.keyedvectors.Vocab at 0x2083cbb11d0>,\n",
       " 'fifty': <gensim.models.keyedvectors.Vocab at 0x2083cbb16d8>,\n",
       " 'developing': <gensim.models.keyedvectors.Vocab at 0x2083cbb1160>,\n",
       " 'time': <gensim.models.keyedvectors.Vocab at 0x2083cbb1b00>,\n",
       " 'see': <gensim.models.keyedvectors.Vocab at 0x2083cbb1358>,\n",
       " 'developed': <gensim.models.keyedvectors.Vocab at 0x2083cbb1a90>,\n",
       " 'among': <gensim.models.keyedvectors.Vocab at 0x2083cbb1518>,\n",
       " 'top': <gensim.models.keyedvectors.Vocab at 0x2083cbb1940>,\n",
       " 'nations': <gensim.models.keyedvectors.Vocab at 0x2083cbb1cf8>,\n",
       " 'terms': <gensim.models.keyedvectors.Vocab at 0x2083cbb14a8>,\n",
       " 'gdp': <gensim.models.keyedvectors.Vocab at 0x2083cbb17f0>,\n",
       " 'percent': <gensim.models.keyedvectors.Vocab at 0x2083cbb16a0>,\n",
       " 'growth': <gensim.models.keyedvectors.Vocab at 0x2083cbb1dd8>,\n",
       " 'rate': <gensim.models.keyedvectors.Vocab at 0x2083cbb1ac8>,\n",
       " 'areas': <gensim.models.keyedvectors.Vocab at 0x2083cbb36d8>,\n",
       " 'poverty': <gensim.models.keyedvectors.Vocab at 0x2083cbb3518>,\n",
       " 'levels': <gensim.models.keyedvectors.Vocab at 0x2083cbb3940>,\n",
       " 'falling': <gensim.models.keyedvectors.Vocab at 0x2083cbb36a0>,\n",
       " 'achievements': <gensim.models.keyedvectors.Vocab at 0x2083cbb37f0>,\n",
       " 'globally': <gensim.models.keyedvectors.Vocab at 0x2083cbb3be0>,\n",
       " 'recognised': <gensim.models.keyedvectors.Vocab at 0x2083cbb3b00>,\n",
       " 'today': <gensim.models.keyedvectors.Vocab at 0x2083cbb3198>,\n",
       " 'lack': <gensim.models.keyedvectors.Vocab at 0x2083cbb3128>,\n",
       " 'self-confidence': <gensim.models.keyedvectors.Vocab at 0x2083cbb38d0>,\n",
       " 'self-reliant': <gensim.models.keyedvectors.Vocab at 0x2083cbb3b38>,\n",
       " 'self-assured': <gensim.models.keyedvectors.Vocab at 0x2083cbb3278>,\n",
       " 'incorrect': <gensim.models.keyedvectors.Vocab at 0x2083cbb3208>,\n",
       " 'third': <gensim.models.keyedvectors.Vocab at 0x2083cbb3cc0>,\n",
       " 'stand': <gensim.models.keyedvectors.Vocab at 0x2083cbb3f98>,\n",
       " 'unless': <gensim.models.keyedvectors.Vocab at 0x2083cbb3710>,\n",
       " 'stands': <gensim.models.keyedvectors.Vocab at 0x2083cbb3c18>,\n",
       " 'strength': <gensim.models.keyedvectors.Vocab at 0x2083cbb3390>,\n",
       " 'respects': <gensim.models.keyedvectors.Vocab at 0x2083cbb3b70>,\n",
       " 'strong': <gensim.models.keyedvectors.Vocab at 0x2083cbb3c50>,\n",
       " 'military': <gensim.models.keyedvectors.Vocab at 0x2083cbb34a8>,\n",
       " 'power': <gensim.models.keyedvectors.Vocab at 0x2083cbb32e8>,\n",
       " 'also': <gensim.models.keyedvectors.Vocab at 0x2083cbb3048>,\n",
       " 'economic': <gensim.models.keyedvectors.Vocab at 0x2083cbb3588>,\n",
       " 'go': <gensim.models.keyedvectors.Vocab at 0x2083cbb37b8>,\n",
       " 'hand-in-hand': <gensim.models.keyedvectors.Vocab at 0x2083cbb3438>,\n",
       " 'good': <gensim.models.keyedvectors.Vocab at 0x2083cbb3240>,\n",
       " 'fortune': <gensim.models.keyedvectors.Vocab at 0x2083cbb3f60>,\n",
       " 'worked': <gensim.models.keyedvectors.Vocab at 0x2083cbb33c8>,\n",
       " 'great': <gensim.models.keyedvectors.Vocab at 0x2083cbb3a20>,\n",
       " 'dr.': <gensim.models.keyedvectors.Vocab at 0x2083cbb3908>,\n",
       " 'vikram': <gensim.models.keyedvectors.Vocab at 0x2083cbb3e10>,\n",
       " 'sarabhai': <gensim.models.keyedvectors.Vocab at 0x2083cbb3eb8>,\n",
       " 'dept': <gensim.models.keyedvectors.Vocab at 0x2083cbb30b8>,\n",
       " 'space': <gensim.models.keyedvectors.Vocab at 0x2083cbb3080>,\n",
       " 'professor': <gensim.models.keyedvectors.Vocab at 0x2083cbb39b0>,\n",
       " 'satish': <gensim.models.keyedvectors.Vocab at 0x2083cbb3d30>,\n",
       " 'dhawan': <gensim.models.keyedvectors.Vocab at 0x2083cbb3f28>,\n",
       " 'succeeded': <gensim.models.keyedvectors.Vocab at 0x2083cbb3d68>,\n",
       " 'brahm': <gensim.models.keyedvectors.Vocab at 0x2083cbb2358>,\n",
       " 'prakash': <gensim.models.keyedvectors.Vocab at 0x2083cbb2dd8>,\n",
       " 'father': <gensim.models.keyedvectors.Vocab at 0x2083cbb2898>,\n",
       " 'nuclear': <gensim.models.keyedvectors.Vocab at 0x2083cbb2470>,\n",
       " 'material': <gensim.models.keyedvectors.Vocab at 0x2083cbb2320>,\n",
       " 'lucky': <gensim.models.keyedvectors.Vocab at 0x2083cbb2208>,\n",
       " 'closely': <gensim.models.keyedvectors.Vocab at 0x2083cbb2128>,\n",
       " 'consider': <gensim.models.keyedvectors.Vocab at 0x2083cbb29e8>,\n",
       " 'opportunity': <gensim.models.keyedvectors.Vocab at 0x2083cbb2940>,\n",
       " 'four': <gensim.models.keyedvectors.Vocab at 0x2083cbb2f98>,\n",
       " 'milestones': <gensim.models.keyedvectors.Vocab at 0x2083cbb22b0>,\n",
       " 'career': <gensim.models.keyedvectors.Vocab at 0x2083cbb2a90>}"
      ]
     },
     "execution_count": 35,
     "metadata": {},
     "output_type": "execute_result"
    }
   ],
   "source": [
    "word"
   ]
  },
  {
   "cell_type": "code",
   "execution_count": 36,
   "metadata": {},
   "outputs": [
    {
     "data": {
      "text/plain": [
       "array([ 1.8263917e-03,  1.9567774e-03,  1.9698895e-03, -2.4001969e-03,\n",
       "       -7.4996694e-04, -2.8563701e-03,  2.7304098e-03, -4.9884194e-03,\n",
       "        2.9732957e-03, -6.3295418e-04, -1.2255871e-03,  4.0146243e-04,\n",
       "       -4.3493523e-03, -4.4762148e-03,  4.3118526e-03, -4.9164696e-03,\n",
       "       -2.6036697e-03, -1.5578489e-05,  2.6897450e-03, -5.3873338e-04,\n",
       "       -2.3982644e-03, -2.7579768e-03,  2.0129399e-03,  3.0112544e-03,\n",
       "       -2.4420463e-03, -8.0787329e-05, -3.1246236e-03, -3.8688530e-03,\n",
       "       -4.0595559e-03, -3.7128655e-03, -1.2326656e-03, -3.7081100e-03,\n",
       "       -2.2311842e-03, -3.7927420e-03, -2.7272284e-03, -4.4294042e-03,\n",
       "       -2.7902431e-03, -2.5471175e-04,  3.7746567e-03,  7.7563792e-04,\n",
       "       -1.4673471e-03,  3.3092843e-03,  4.7421078e-03, -1.2161692e-04,\n",
       "        2.8041825e-03,  2.2687293e-03, -5.4840714e-04,  4.3327087e-03,\n",
       "        2.9589587e-03,  3.6121735e-03, -2.1029303e-03,  4.8120124e-03,\n",
       "        2.9975546e-03,  1.0108743e-03, -1.5584030e-03, -3.6129856e-03,\n",
       "        1.7928683e-03, -3.0014114e-03,  3.2516669e-03,  4.5792358e-03,\n",
       "       -3.1658728e-03, -2.1340423e-03,  4.6824086e-03,  3.1398553e-03,\n",
       "        4.4816816e-03, -2.0220431e-03, -1.7210917e-03,  2.7499038e-03,\n",
       "        2.3058853e-03,  2.1626377e-03,  1.3572683e-03,  5.0033105e-04,\n",
       "       -4.0492762e-04, -3.4085973e-03, -1.6971125e-03, -8.2990044e-04,\n",
       "       -1.1694076e-03,  2.5572791e-03,  3.9433870e-03,  1.6671648e-04,\n",
       "       -1.8955537e-03, -3.4914323e-04, -1.8356597e-03,  2.8023168e-03,\n",
       "        2.7154593e-03,  6.3166182e-05,  4.1487804e-03,  2.8373676e-03,\n",
       "        2.4720090e-03,  3.7074412e-04,  1.6027298e-03, -3.9706044e-03,\n",
       "        3.0571956e-03,  4.6260530e-04,  7.9336757e-04, -1.2949170e-03,\n",
       "        2.1745933e-03, -4.1832812e-03,  2.4315966e-03, -1.6228376e-03],\n",
       "      dtype=float32)"
      ]
     },
     "execution_count": 36,
     "metadata": {},
     "output_type": "execute_result"
    }
   ],
   "source": [
    "vector = model.wv[\"war\"] #finding vector\n",
    "vector"
   ]
  },
  {
   "cell_type": "code",
   "execution_count": 37,
   "metadata": {},
   "outputs": [
    {
     "data": {
      "text/plain": [
       "[('material', 0.2724617123603821),\n",
       " ('came', 0.25045254826545715),\n",
       " ('developing', 0.22828471660614014),\n",
       " ('first', 0.1895405501127243),\n",
       " ('satish', 0.18317116796970367),\n",
       " ('alexander', 0.17696528136730194),\n",
       " ('india', 0.16452918946743011),\n",
       " ('gdp', 0.16212496161460876),\n",
       " ('build', 0.14724740386009216),\n",
       " ('history', 0.14164519309997559)]"
      ]
     },
     "execution_count": 37,
     "metadata": {},
     "output_type": "execute_result"
    }
   ],
   "source": [
    "similar = model.wv.most_similar(\"war\")\n",
    "similar"
   ]
  },
  {
   "cell_type": "code",
   "execution_count": 38,
   "metadata": {},
   "outputs": [
    {
     "data": {
      "text/plain": [
       "[('self-assured', 0.2430386245250702),\n",
       " ('great', 0.22473670542240143),\n",
       " ('minds', 0.21576891839504242),\n",
       " ('fortune', 0.2024778425693512),\n",
       " ('captured', 0.20123164355754852),\n",
       " ('developing', 0.1981048882007599),\n",
       " ('nations', 0.17607036232948303),\n",
       " ('vision', 0.137503519654274),\n",
       " ('done', 0.1228552833199501),\n",
       " ('tried', 0.1217992901802063)]"
      ]
     },
     "execution_count": 38,
     "metadata": {},
     "output_type": "execute_result"
    }
   ],
   "source": [
    "similar = model.wv.most_similar(\"freedom\")\n",
    "similar"
   ]
  }
 ],
 "metadata": {
  "kernelspec": {
   "display_name": "Python 3",
   "language": "python",
   "name": "python3"
  },
  "language_info": {
   "codemirror_mode": {
    "name": "ipython",
    "version": 3
   },
   "file_extension": ".py",
   "mimetype": "text/x-python",
   "name": "python",
   "nbconvert_exporter": "python",
   "pygments_lexer": "ipython3",
   "version": "3.7.3"
  }
 },
 "nbformat": 4,
 "nbformat_minor": 2
}
